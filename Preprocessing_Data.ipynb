{
  "cells": [
    {
      "cell_type": "markdown",
      "metadata": {
        "id": "view-in-github",
        "colab_type": "text"
      },
      "source": [
        "<a href=\"https://colab.research.google.com/github/GilangDjati/Blok-Perkuliahan-Data-Mining/blob/main/Preprocessing_Data.ipynb\" target=\"_parent\"><img src=\"https://colab.research.google.com/assets/colab-badge.svg\" alt=\"Open In Colab\"/></a>"
      ]
    },
    {
      "cell_type": "code",
      "source": [
        "import numpy as np\n",
        "import matplotlib.pyplot as plt\n",
        "import pandas as pd"
      ],
      "metadata": {
        "id": "SavPicrJH1ft"
      },
      "execution_count": 1,
      "outputs": []
    },
    {
      "cell_type": "code",
      "source": [
        "dataset = pd.read_excel('Data.csv.xlsx')\n",
        "x = dataset.iloc[[0,1,2,3,4,5,6,7,8,9,10],[0,1,3,4,5,6,7,8,9]]\n",
        "y = dataset.iloc[[0,1,2,3,4,5,6,7,8,9,10],[2]]"
      ],
      "metadata": {
        "id": "Lhjj-fZuITHJ"
      },
      "execution_count": 21,
      "outputs": []
    },
    {
      "cell_type": "code",
      "source": [
        "print(x)"
      ],
      "metadata": {
        "colab": {
          "base_uri": "https://localhost:8080/"
        },
        "id": "1zVCjpZwQatM",
        "outputId": "45c04f78-cda1-45c0-8fa5-e3f9d17dbf61"
      },
      "execution_count": 19,
      "outputs": [
        {
          "output_type": "stream",
          "name": "stdout",
          "text": [
            "    SNo  Name                Date        High         Low        Open  \\\n",
            "0     1  Aave 2020-10-05 23:59:59  5511235847  4978789992  5267503496   \n",
            "1     2  Aave 2020-10-06 23:59:59  5340227002  4073457791  5329196931   \n",
            "2     3  Aave 2020-10-07 23:59:59  4240831364  3597068975  4239994711   \n",
            "3     4  Aave 2020-10-08 23:59:59  4490251114  3669605677  3988526234   \n",
            "4     5  Aave 2020-10-09 23:59:59  4756953274   432917758  4376446306   \n",
            "5     6  Aave 2020-10-10 23:59:59   514056548  4670332768  4681814554   \n",
            "6     7  Aave 2020-10-11 23:59:59  5145337431  4871603954  4913312951   \n",
            "7     8  Aave 2020-10-12 23:59:59  5442141763  4875407708  4966157329   \n",
            "8     9  Aave 2020-10-13 23:59:59  5748190422  4959873521  5223839242   \n",
            "9    10  Aave 2020-10-14 23:59:59  5785394649  4962952942  5137289869   \n",
            "10   11  Aave 2020-10-15 23:59:59  5208068541  4401832531  5138760962   \n",
            "\n",
            "         Close        Volume     Marketcap  \n",
            "0   5321924296  0.000000e+00  8.912813e+15  \n",
            "1   4240159861  5.830915e+12  7.101144e+15  \n",
            "2   4008397561  6.828342e+13  6.713004e+15  \n",
            "3   4376446306  1.658817e+14  2.202651e+16  \n",
            "4   4681774415  8.155377e+12  2.356322e+16  \n",
            "5   4913371767  1.074627e+14  2.472884e+16  \n",
            "6   4966072573  6.921506e+13  2.499408e+16  \n",
            "7   5223869222  1.354836e+14  2.629157e+16  \n",
            "8   5112431679  1.386221e+13  2.573071e+16  \n",
            "9   5131651791  3.132405e+14  2.582744e+16  \n",
            "10  4401918294  5.883146e+14  2.215471e+16  \n"
          ]
        }
      ]
    },
    {
      "cell_type": "code",
      "source": [
        "print(y)"
      ],
      "metadata": {
        "colab": {
          "base_uri": "https://localhost:8080/"
        },
        "id": "gMn57G8DQqQc",
        "outputId": "e23e1a78-a593-46de-8d52-aa52ec79ca53"
      },
      "execution_count": 22,
      "outputs": [
        {
          "output_type": "stream",
          "name": "stdout",
          "text": [
            "   Symbol\n",
            "0    AAVE\n",
            "1    AAVE\n",
            "2    AAVE\n",
            "3    AAVE\n",
            "4    AAVE\n",
            "5    AAVE\n",
            "6    AAVE\n",
            "7    AAVE\n",
            "8    AAVE\n",
            "9    AAVE\n",
            "10   AAVE\n"
          ]
        }
      ]
    },
    {
      "cell_type": "code",
      "source": [
        "from sklearn.compose import ColumnTransformer\n",
        "from sklearn.preprocessing import OneHotEndcoder\n",
        "ct = ColumnTransformer(transformers=[('encoder', OneHOtEncoder(), [0])], remainder='passthrough')\n",
        "x = np.array(ct.fit_transform(x))"
      ],
      "metadata": {
        "colab": {
          "base_uri": "https://localhost:8080/",
          "height": 373
        },
        "id": "cMQLfzapSpH6",
        "outputId": "1ab4cee4-8567-41cd-ee84-70caf75a65da"
      },
      "execution_count": 25,
      "outputs": [
        {
          "output_type": "error",
          "ename": "ImportError",
          "evalue": "ignored",
          "traceback": [
            "\u001b[0;31m---------------------------------------------------------------------------\u001b[0m",
            "\u001b[0;31mImportError\u001b[0m                               Traceback (most recent call last)",
            "\u001b[0;32m<ipython-input-25-0cb174e194ae>\u001b[0m in \u001b[0;36m<module>\u001b[0;34m\u001b[0m\n\u001b[1;32m      1\u001b[0m \u001b[0;32mfrom\u001b[0m \u001b[0msklearn\u001b[0m\u001b[0;34m.\u001b[0m\u001b[0mcompose\u001b[0m \u001b[0;32mimport\u001b[0m \u001b[0mColumnTransformer\u001b[0m\u001b[0;34m\u001b[0m\u001b[0;34m\u001b[0m\u001b[0m\n\u001b[0;32m----> 2\u001b[0;31m \u001b[0;32mfrom\u001b[0m \u001b[0msklearn\u001b[0m\u001b[0;34m.\u001b[0m\u001b[0mpreprocessing\u001b[0m \u001b[0;32mimport\u001b[0m \u001b[0mOneHotEndcoder\u001b[0m\u001b[0;34m\u001b[0m\u001b[0;34m\u001b[0m\u001b[0m\n\u001b[0m\u001b[1;32m      3\u001b[0m \u001b[0mct\u001b[0m \u001b[0;34m=\u001b[0m \u001b[0mColumnTransformer\u001b[0m\u001b[0;34m(\u001b[0m\u001b[0mtransformers\u001b[0m\u001b[0;34m=\u001b[0m\u001b[0;34m[\u001b[0m\u001b[0;34m(\u001b[0m\u001b[0;34m'encoder'\u001b[0m\u001b[0;34m,\u001b[0m \u001b[0mOneHOtEncoder\u001b[0m\u001b[0;34m(\u001b[0m\u001b[0;34m)\u001b[0m\u001b[0;34m,\u001b[0m \u001b[0;34m[\u001b[0m\u001b[0;36m0\u001b[0m\u001b[0;34m]\u001b[0m\u001b[0;34m)\u001b[0m\u001b[0;34m]\u001b[0m\u001b[0;34m,\u001b[0m \u001b[0mremainder\u001b[0m\u001b[0;34m=\u001b[0m\u001b[0;34m'passthrough'\u001b[0m\u001b[0;34m)\u001b[0m\u001b[0;34m\u001b[0m\u001b[0;34m\u001b[0m\u001b[0m\n\u001b[1;32m      4\u001b[0m \u001b[0mx\u001b[0m \u001b[0;34m=\u001b[0m \u001b[0mnp\u001b[0m\u001b[0;34m.\u001b[0m\u001b[0marray\u001b[0m\u001b[0;34m(\u001b[0m\u001b[0mct\u001b[0m\u001b[0;34m.\u001b[0m\u001b[0mfit_transform\u001b[0m\u001b[0;34m(\u001b[0m\u001b[0mx\u001b[0m\u001b[0;34m)\u001b[0m\u001b[0;34m)\u001b[0m\u001b[0;34m\u001b[0m\u001b[0;34m\u001b[0m\u001b[0m\n",
            "\u001b[0;31mImportError\u001b[0m: cannot import name 'OneHotEndcoder' from 'sklearn.preprocessing' (/usr/local/lib/python3.9/dist-packages/sklearn/preprocessing/__init__.py)",
            "",
            "\u001b[0;31m---------------------------------------------------------------------------\u001b[0;32m\nNOTE: If your import is failing due to a missing package, you can\nmanually install dependencies using either !pip or !apt.\n\nTo view examples of installing some common dependencies, click the\n\"Open Examples\" button below.\n\u001b[0;31m---------------------------------------------------------------------------\u001b[0m\n"
          ],
          "errorDetails": {
            "actions": [
              {
                "action": "open_url",
                "actionText": "Open Examples",
                "url": "/notebooks/snippets/importing_libraries.ipynb"
              }
            ]
          }
        }
      ]
    }
  ],
  "metadata": {
    "colab": {
      "provenance": [],
      "include_colab_link": true
    },
    "kernelspec": {
      "display_name": "Python 3",
      "name": "python3"
    }
  },
  "nbformat": 4,
  "nbformat_minor": 0
}